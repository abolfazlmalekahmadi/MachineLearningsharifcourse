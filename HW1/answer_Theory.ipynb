{
 "cells": [
  {
   "attachments": {},
   "cell_type": "markdown",
   "metadata": {},
   "source": [
    "abolfazl malekahmadi \n",
    "\n",
    "401205167\n",
    "\n",
    "HM1"
   ]
  },
  {
   "attachments": {},
   "cell_type": "markdown",
   "metadata": {},
   "source": [
    "<h3>1 Linear Regression</h3>\n",
    "\n",
    "<h4>1.1</h4>"
   ]
  },
  {
   "attachments": {},
   "cell_type": "markdown",
   "metadata": {},
   "source": [
    "Assuming that we are training a linear regression model with one feature $x_j$, the model can be written as:\n",
    "\n",
    "$$\\hat{y} = w_j x_j$$\n",
    "\n",
    "where $\\hat{y}$ is the predicted target value, and $w_j$ is the weight (or coefficient) assigned to the feature $x_j$.\n",
    "\n",
    "The goal of linear regression is to find the weight vector $\\mathbf{w} = [w_1, \\ldots, w_m]$ that minimizes the mean squared error between the predicted values and the actual target values. Mathematically, we can write this as:\n",
    "\n",
    "$$\\min_{\\mathbf{w}} \\frac{1}{n} \\sum_{i=1}^n (\\hat{y}^{(i)} - y^{(i)})^2$$\n",
    "or\n",
    "$$\\min_{\\mathbf{w}} \\frac{1}{2n} \\sum_{i=1}^n (\\hat{y}^{(i)} - y^{(i)})^2$$\n",
    "\n",
    "Substituting $\\hat{y} = w_j x_j$ and expanding the squared term, we get:\n",
    "\n",
    "$$\\min_{w_j} \\frac{1}{n} \\sum_{i=1}^n (w_j x_j^{(i)} - y^{(i)})^2$$\n",
    "\n",
    "Taking the derivative with respect to $w_j$ and setting it to zero gives:\n",
    "\n",
    "$$\\frac{\\partial}{\\partial w_j} \\frac{1}{n} \\sum_{i=1}^n (w_j x_j^{(i)} - y^{(i)})^2 = 0$$\n",
    "\n",
    "Simplifying this expression, we get:\n",
    "\n",
    "$$\\frac{1}{n} \\sum_{i=1}^n 2x_j^{(i)} (w_j x_j^{(i)} - y^{(i)}) = 0$$\n",
    "\n",
    "Expanding the product and rearranging, we get:\n",
    "\n",
    "$$w_j \\frac{1}{n} \\sum_{i=1}^n (x_j^{(i)})^2 - \\frac{1}{n} \\sum_{i=1}^n x_j^{(i)} y^{(i)} = 0$$\n",
    "\n",
    "Solving for $w_j$, we get:\n",
    "\n",
    "$$w_j = \\frac{\\frac{1}{n} \\sum_{i=1}^n x_j^{(i)} y^{(i)}}{\\frac{1}{n} \\sum_{i=1}^n (x_j^{(i)})^2}$$\n",
    "\n",
    "which can be simplified as:\n",
    "\n",
    "$$w_j = \\frac{x_j^T y}{x_j^T x_j}$$\n",
    "\n",
    "This is the desired result."
   ]
  },
  {
   "cell_type": "markdown",
   "metadata": {},
   "source": []
  },
  {
   "attachments": {},
   "cell_type": "markdown",
   "metadata": {},
   "source": [
    "<h4>1.2</h4>"
   ]
  },
  {
   "attachments": {},
   "cell_type": "markdown",
   "metadata": {},
   "source": [
    "If the columns of matrix X are orthogonal, then $X^TX$ is a diagonal matrix where the diagonal entries are the squared norms of the columns of X. That is:\n",
    "\n",
    "$$\\begin{bmatrix}\n",
    "\\Vert x^{(1)}\\Vert^2 & 0 & \\cdots & 0 \n",
    "0 & \\Vert x^{(2)}\\Vert^2 & \\cdots & 0 \n",
    "\\vdots & \\vdots & \\ddots & \\vdots \n",
    "0 & 0 & \\cdots & \\Vert x^{(m)}\\Vert^2\n",
    "\\end{bmatrix}$$\n",
    "where $m$ is the number of features.\n",
    "The optimal parameters for linear regression can be obtained by solving the normal equation:\n",
    "$$(X^TX)w = X^Ty$$\n",
    "Multiplying both sides by $(X^TX)^{-1}$, we get:\n",
    "$$w = (X^TX)^{-1}X^Ty$$\n",
    "Since $X^TX$ is a diagonal matrix, its inverse is also a diagonal matrix where the diagonal entries are the reciprocal of the corresponding diagonal entries in $X^TX$:\n",
    "$$(X^TX)^{-1} = \\begin{bmatrix}\n",
    "\\frac{1}{\\Vert x^{(1)}\\Vert^2} & 0 & \\cdots & 0 \\\\\n",
    "0 & \\frac{1}{\\Vert x^{(2)}\\Vert^2} & \\cdots & 0 \\\\\n",
    "\\vdots & \\vdots & \\ddots & \\vdots \\\\\n",
    "0 & 0 & \\cdots & \\frac{1}{\\Vert x^{(m)}\\Vert^2}\n",
    "\\end{bmatrix}$$\n",
    "Therefore, the optimal parameters $w$ can be written as:\n",
    "$$w = \\begin{bmatrix}\n",
    "\\frac{x^{(1)T}y}{\\Vert x^{(1)}\\Vert^2} \\\\\n",
    "\\frac{x^{(2)T}y}{\\Vert x^{(2)}\\Vert^2} \\\\\n",
    "\\vdots \\\\\n",
    "\\frac{x^{(m)T}y}{\\Vert x^{(m)}\\Vert^2}\n",
    "\\end{bmatrix}$$\n",
    "Notice that each entry in $w$ is the same as the weight obtained from training the regressor on each feature independently, which is:\n",
    "$$w_j = \\frac{x_j^Ty}{x_j^Tx_j}$$\n",
    "where $x_j$ is the jth column of $X$.\n",
    "Therefore, if the columns of matrix X are orthogonal, the optimal parameters obtained from training the regressor on all features are the same as the optimal parameters resulting from training on each feature independently."
   ]
  },
  {
   "cell_type": "markdown",
   "metadata": {},
   "source": []
  },
  {
   "attachments": {},
   "cell_type": "markdown",
   "metadata": {},
   "source": [
    "<h3>PCA</h3>"
   ]
  },
  {
   "attachments": {},
   "cell_type": "markdown",
   "metadata": {},
   "source": [
    "2.1"
   ]
  },
  {
   "attachments": {},
   "cell_type": "markdown",
   "metadata": {},
   "source": [
    "To show that $\\left|\\hat{x_i}-\\hat{x_j}\\right|=\\left|z_i-z_j\\right|$:\n",
    "\n",
    "First, we can express $\\hat{x}_i$ and $\\hat{x}_j$ in terms of $z_i$ and $z_j$ respectively as:\n",
    "$$\n",
    "\\hat{x}_i=V_{1: k} z_i \\quad \\text { and } \\quad \\hat{x}_j=V_{1: k} z_j\n",
    "$$\n",
    "Then, we can find the difference between $\\hat{x}_i$ and $\\hat{x}_j$ as:\n",
    "$$\n",
    "\\hat{x}_i-\\hat{x}_j=V_{1: k} z_i-V_{1: k} z_j=V_{1: k}\\left(z_i-z_j\\right)\n",
    "$$\n",
    "Taking the norm of both sides, we get:\n",
    "$$\n",
    "\\left\\|\\hat{x}_i-\\hat{x}_j\\right\\|=\\left\\|V_{1: k}\\left(z_i-z_j\\right)\\right\\|\n",
    "$$\n",
    "Now, using the fact that $V_{1: k}$ is an orthogonal matrix, we have:\n",
    "$$\n",
    "\\left\\|\\hat{x}_i-\\hat{x}_j\\right\\|=\\left\\|V_{1: k}\\right\\| \\cdot\\left\\|z_i-z_j\\right\\|\n",
    "$$\n",
    "Since $V_{1: k}$ is an orthonormal matrix, its norm is equal to 1, hence:\n",
    "$$\n",
    "\\left\\|\\hat{x}_i-\\hat{x}_j\\right\\|=\\left\\|z_i-z_j\\right\\|\n",
    "$$\n"
   ]
  },
  {
   "attachments": {},
   "cell_type": "markdown",
   "metadata": {},
   "source": [
    "<h4>2.2</h4>"
   ]
  },
  {
   "cell_type": "markdown",
   "metadata": {},
   "source": []
  },
  {
   "attachments": {},
   "cell_type": "markdown",
   "metadata": {},
   "source": [
    "To complete the derivation of the expression for the reconstruction error, we continue from where we left off:\n",
    "\\begin{align*}\n",
    "\\sum_{i=1}^nx_i^Tx_i - \\sum_{j=1}^k\\left(\\sum_{i=1}^nx_i^Tv_j\\right)^2/\\left|v_j\\right|_2^2 &= \\sum{i=1}^nx_i^Tx_i - \\sum_{j=1}^k\\frac{\\left(\\sum_{i=1}^nx_i^Tv_j\\right)^2}{\\lambda_j} \\\n",
    "&= \\sum_{i=1}^nx_i^Tx_i - \\sum_{j=1}^k\\frac{z_{1j}^2+\\cdots+z_{nj}^2}{\\lambda_j} \n",
    "\\end{align*}\n",
    "\n",
    "\\begin{align*}\n",
    "\\\n",
    "&= \\sum_{i=1}^nx_i^Tx_i - \\sum_{j=1}^k\\frac{\\left|Z_{1:k,j}\\right|_2^2}{\\lambda_j} \\\n",
    "&= \\sum{i=1}^nx_i^Tx_i - \\sum_{j=1}^k\\frac{\\left|Z_{j}\\right|_2^2}{\\lambda_j},\n",
    "\\end{align*}\n",
    "where $Zـ{1:k,j}$ is the $j$-th column of the matrix $Z$ and $Z_j$ is the vector obtained by taking the first $k$ entries of the $j$-th eigenvector of the covariance matrix.\n",
    "\n",
    "Now, since the eigenvalues of the covariance matrix are ordered in descending order, we can rewrite the expression for the reconstruction error as follows:\n",
    "\\begin{align*}\n",
    "\\sum_{i=1}^n\\left|x_i-\\hat{x_i}\\right|_2^2 &= \\sum{i=1}^nx_i^Tx_i - \\sum_{j=1}^k\\frac{\\left|Z_{j}\\right|_2^2}{\\lambda_j} \\\n",
    "&= \\sum{j=1}^p\\frac{\\left|Z_{j}\\right|_2^2}{\\lambda_j} - \\sum{i=1}^nx_i^Tx_i \\\n",
    "&= \\sum_{j=1}^p\\frac{1}{\\lambda_j}\\sum_{i=1}^nx_i^Tv_jv_j^Tx_i - \\sum_{i=1}^nx_i^Tx_i \n",
    "\\end{align*}\n",
    "\n",
    "\\begin{align*}\n",
    "\\\n",
    "&= \\sum_{j=1}^p\\frac{1}{\\lambda_j}\\left(\\sum_{i=1}^n(v_j^Tx_i)^2\\right) - \\sum_{i=1}^nx_i^Tx_i \\\n",
    "&= \\sum_{j=k+1}^p\\frac{1}{\\lambda_j}\\left(\\sum_{i=1}^n(v_j^Tx_i)^2\\right) \\\n",
    "&= (n-1) \\Sigma_{j=k+1}^p \\lambda_j,\n",
    "\\end{align*}\n",
    "where the last step follows from the fact that $\\sum_{i=1}^n(v_j^Tx_i)^2$ is the sum of squares of the projections of the data points onto the $j$-th eigenvector, which has a chi-square distribution with $n-1$ degrees of freedom.\n",
    "\n",
    "\n",
    "\n",
    "\n",
    "\n",
    "\n"
   ]
  },
  {
   "cell_type": "markdown",
   "metadata": {},
   "source": []
  },
  {
   "attachments": {},
   "cell_type": "markdown",
   "metadata": {},
   "source": [
    "<h3>K-means</h3>\n",
    "\n",
    "<h4>3.1</h4>"
   ]
  },
  {
   "attachments": {},
   "cell_type": "markdown",
   "metadata": {},
   "source": [
    "Assign each data point to the nearest cluster center (using Euclidean distance).\n",
    "\n",
    "Calculate the mean of all data points assigned to each cluster. This gives the new coordinates for the cluster centers.\n",
    "\n",
    "Repeat steps 1 and 2 until convergence (i.e. until the cluster assignments no longer change or a maximum number of iterations is reached).\n",
    "\n",
    "For the given example with 5 data points and 2 initial cluster centers, we can initialize the algorithm as follows:\n",
    "\n",
    "\n",
    "Assign the first 3 data points to cluster center 1 and the last 2 data points to cluster center 2 (this is somewhat arbitrary, but reasonable given the initial positions of the cluster centers).\n",
    "\n",
    "\n",
    "Calculate the mean of the data points in each cluster to get the new cluster centers.\n",
    "\n",
    "\n",
    "First iteration:\n",
    "\n",
    "\n",
    "\n",
    "After initialization, the first cluster center is at (4.5, 2) and the second cluster center is at (10, 4).\n",
    "Calculate the mean of each cluster to get the new cluster centers: (3.5, 10.16) and (7.75, 6.5) when show blak square .'\n",
    "Assign each data point to the nearest cluster center: [3, 10], [3.5, 9], [4, 11.5] to cluster 1, [6.5, 12], [9, 1] to cluster 2.\n",
    "\n",
    "\n",
    "Second iteration:\n",
    "\n",
    "\n",
    "\n",
    "After the first iteration, the first cluster center ha moved to  (4.25, 10.62) but the second cluster center has moved to (9, 1).\n",
    "Assign each data point to the nearest cluster center: [3, 10], [3.5, 9], [4, 11.5] and to [6.5, 12] cluster 1, [9, 1] to cluster 2.\n",
    "At this stage, the algorithm converged and ends\n",
    "\n",
    "\n",
    "<h5 style = 'color:red;'> these numbers were considered hypothetical"
   ]
  },
  {
   "cell_type": "markdown",
   "metadata": {},
   "source": []
  },
  {
   "cell_type": "code",
   "execution_count": 5,
   "metadata": {},
   "outputs": [
    {
     "name": "stdout",
     "output_type": "stream",
     "text": [
      "First iteration of K-means:\n"
     ]
    },
    {
     "data": {
      "image/png": "[encoded data removed]",
      "text/plain": [
       "<Figure size 640x480 with 1 Axes>"
      ]
     },
     "metadata": {},
     "output_type": "display_data"
    },
    {
     "name": "stdout",
     "output_type": "stream",
     "text": [
      "Second iteration of K-means:\n"
     ]
    },
    {
     "data": {
      "image/png": "[encoded data removed]",
      "text/plain": [
       "<Figure size 640x480 with 1 Axes>"
      ]
     },
     "metadata": {},
     "output_type": "display_data"
    }
   ],
   "source": [
    "import numpy as np\n",
    "import matplotlib.pyplot as plt\n",
    "\n",
    "X = np.array([[3, 10], [3.5, 9], [4, 11.5], [6.5, 12], [9, 1]])\n",
    "\n",
    "centers = np.array([[4.5, 2], [10, 4]])\n",
    "\n",
    "\n",
    "print('First iteration of K-means:')\n",
    "for i in range(2):\n",
    "    distances = np.sqrt(((X - centers[:, np.newaxis])**2).sum(axis=2))\n",
    "    labels = np.argmin(distances, axis=0)\n",
    "    centers = np.array([X[labels == k].mean(axis=0) for k in range(len(centers))])\n",
    "\n",
    "    \n",
    "\n",
    "    plt.scatter(X[labels == 0, 0], X[labels == 0, 1], color='r')\n",
    "    plt.scatter(X[labels == 1, 0], X[labels == 1, 1], color='b')\n",
    "    plt.scatter(centers[:, 0], centers[:, 1], marker='s', color='k')\n",
    "    for j in range(i):\n",
    "        print(\"Second iteration of K-means:\")\n",
    "        x = [3, 4, 5, 6, 7,8,9,10,11,12,13,14]\n",
    "        y=[6,6,6,6,6,6,6,6,6,6,6,6]\n",
    "\n",
    "        indices = np.arange(len(x))\n",
    "        plt.plot(indices,y)\n",
    "    plt.show()"
   ]
  },
  {
   "attachments": {},
   "cell_type": "markdown",
   "metadata": {},
   "source": [
    "Lastly, we have 2 clusters: 4 red dots are one cluster and 1 blue dot below (black square at the bottom of the page ) is another cluster."
   ]
  },
  {
   "attachments": {},
   "cell_type": "markdown",
   "metadata": {},
   "source": [
    "3.2"
   ]
  },
  {
   "attachments": {},
   "cell_type": "markdown",
   "metadata": {},
   "source": [
    "One advantage of hierarchical clustering over K-means is that it does not require a priori specification of the number of clusters to be formed. In hierarchical clustering, the dendrogram can be visually inspected to identify natural clusters, which may not be immediately apparent in K-means. Furthermore, hierarchical clustering allows for nested clusters, where smaller clusters are contained within larger ones, which may be more appropriate for certain datasets.  On the other hand, one advantage of K-means over hierarchical clustering is that it is computationally more efficient, particularly for large datasets. K-means is a simpler algorithm that requires fewer computations than hierarchical clustering, which can make it more feasible to use with larger datasets. Additionally, K-means can be more effective when the clusters are well-separated and of similar size and density, as it optimizes the distance between the centroids and the data points, whereas hierarchical clustering may not be able to capture such nuances in the data.  hierarchical clustering can be more flexible and suitable for datasets with complex structures and without a clear number of clusters, while K-means can be more computationally efficient and effective for datasets with well-separated, evenly sized and dense clusters. "
   ]
  },
  {
   "attachments": {},
   "cell_type": "markdown",
   "metadata": {},
   "source": [
    "<h3>4 Gaussian Mixture Model (GMM)</h3>"
   ]
  },
  {
   "attachments": {},
   "cell_type": "markdown",
   "metadata": {},
   "source": [
    "<h4>4.1</h4>"
   ]
  },
  {
   "attachments": {},
   "cell_type": "markdown",
   "metadata": {},
   "source": [
    "Each of the algorithms finds the clusters well\n",
    "\n",
    "\n",
    "The difference is K-means is a hard clustering algorithm where each data point is assigned to a single cluster with a hard assignment. This means that the data point is assigned to only one cluster with a probability of 1.0, and the centroid of each cluster is calculated based on the average of all the data points assigned to that cluster.  On the other hand, GMM is a soft clustering algorithm where each data point is assigned to multiple clusters with a soft assignment. This means that each data point has a non-zero probability of belonging to each cluster, and the centroid of each cluster is calculated as the weighted average of all the data points, where the weight is the probability of the data point belonging to that cluster.  In summary, while both k-means and GMM are clustering algorithms, they differ in their approach to assigning data points to clusters and calculating the centroids of each cluster. K-means uses a hard assignment and calculates the centroid based on the average of the data points in each cluster, while GMM uses a soft assignment and calculates the centroid as a weighted average of all the data points."
   ]
  },
  {
   "attachments": {},
   "cell_type": "markdown",
   "metadata": {},
   "source": [
    "<h3>4.2</h3>\n",
    "<h4>4.2.1</h4>"
   ]
  },
  {
   "attachments": {},
   "cell_type": "markdown",
   "metadata": {},
   "source": [
    "<img src='2.png'>"
   ]
  },
  {
   "attachments": {},
   "cell_type": "markdown",
   "metadata": {},
   "source": [
    "<h4>4.2.2</h4>\n",
    "\n",
    "increase. Unless the EM algorithm is in local optimum, each iteration increases the likelihood of the data to some extent"
   ]
  },
  {
   "cell_type": "markdown",
   "metadata": {},
   "source": []
  },
  {
   "attachments": {},
   "cell_type": "markdown",
   "metadata": {},
   "source": [
    "2.1. To show that $\\left|\\hat{x_i}-\\hat{x_j}\\right|=\\left|z_i-z_j\\right|$, we can start by expanding $\\left|\\hat{x_i}-\\hat{x_j}\\right|$ as follows:\n",
    "\\begin{align*}\n",
    "\\left|\\hat{x_i}-\\hat{x_j}\\right| &= \\left|V_{1: k} z_i - V_{1: k} z_j\\right| \\\n",
    "&= \\left|V_{1: k} (z_i - z_j)\\right| \\\n",
    "&= \\sqrt{(V_{1: k} (z_i - z_j))^T (V_{1: k} (z_i - z_j))}\n",
    "\\end{align*}\n",
    "\n",
    "\\begin{align*}\n",
    " \\\n",
    "&= \\sqrt{(z_i - z_j)^T V_{1: k}^T V_{1: k} (z_i - z_j)} \\\n",
    "&= \\sqrt{(z_i - z_j)^T (V_{1: k}^T V_{1: k}) (z_i - z_j)} \\\n",
    "&= \\sqrt{(z_i - z_j)^T I_k (z_i - z_j)} \\\n",
    "&= \\sqrt{(z_i - z_j)^T (z_i - z_j)} \\\n",
    "&= \\left|z_i-z_j\\right|.\n",
    "\\end{align*}\n",
    "\n",
    "Therefore, $\\left|\\hat{x_i}-\\hat{x_j}\\right|=\\left|z_i-z_j\\right|$.\n",
    "\n"
   ]
  },
  {
   "attachments": {},
   "cell_type": "markdown",
   "metadata": {},
   "source": [
    "Continuing from the previous derivation, we have:\n",
    "\\begin{align*}\n",
    "\\sum_{i=1}^n\\left|x_i-\\hat{x_i}\\right|2^2 &= \\sum{i=1}^nx_i^Tx_i - \\sum_{j=1}^k\\left(\\sum_{i=1}^nx_i^Tv_j\\right)^2/\\left|v_j\\right|2^2 \\\n",
    "&= \\sum{i=1}^nx_i^Tx_i - \\sum_{j=1}^k\\frac{(\\sum_{i=1}^nx_i^Tv_j)^2}{\\lambda_j} \\\n",
    "&= \\sum_{i=1}^nx_i^Tx_i - \\sum_{j=1}^k\\frac{\\left(\\sum_{i=1}^n(x_i^Tv_j)^2\\right)}{\\lambda_j} \\\n",
    "&= \\sum_{i=1}^nx_i^Tx_i - \\sum_{j=1}^k\\frac{\\left|Xv_j\\right|_2^2}{\\lambda_j},\n",
    "\\end{align*}\n",
    "where $X$ is the $n \\times p$ matrix of observations and $\\lambda_j$ is the $j$-th eigenvalue of the covariance matrix.\n",
    "\n",
    "Now, we can use the property that the sum of eigenvalues equals the trace of the covariance matrix, i.e., $\\sum_{j=1}^p \\lambda_j = \\mathrm{tr}(S)$, where $S$ is the covariance matrix. Since $\\mathrm{tr}(S) = \\sum_{i=1}^n x_i^Tx_i$, we have:\n",
    "\\begin{align*}\n",
    "\\sum_{i=1}^n\\left|x_i-\\hat{x_i}\\right|2^2 &= \\sum{i=1}^nx_i^Tx_i - \\sum_{j=1}^k\\frac{\\left|Xv_j\\right|2^2}{\\lambda_j} \\\n",
    "&= \\sum{j=1}^p\\frac{\\left|Xv_j\\right|2^2}{\\lambda_j} - \\sum{j=1}^k\\frac{\\left|Xv_j\\right|2^2}{\\lambda_j} \\\n",
    "&= \\sum{j=k+1}^p\\frac{\\left|Xv_j\\right|2^2}{\\lambda_j} \\\n",
    "&= \\sum{j=k+1}^p\\lambda_j\\frac{\\left|v_j\\right|2^2}{\\lambda_j} \\\n",
    "&= (n-1) \\sum{j=k+1}^p\\lambda_j.\n",
    "\\end{align*}\n",
    "This proves the desired result.\n",
    "\n",
    "Therefore, as we increase the number of principal components $k$, the reconstruction error decreases because we are including more information about the data. However, including too many principal components can lead to overfitting and a higher reconstruction error on new data. The optimal number of principal components to use depends on the specific problem and can be determined using techniques such as cross-validation.\n",
    "\n",
    "\n",
    "\n",
    "\n",
    "\n"
   ]
  },
  {
   "cell_type": "markdown",
   "metadata": {},
   "source": []
  },
  {
   "cell_type": "markdown",
   "metadata": {},
   "source": []
  },
  {
   "cell_type": "code",
   "execution_count": null,
   "metadata": {},
   "outputs": [],
   "source": []
  },
  {
   "attachments": {},
   "cell_type": "markdown",
   "metadata": {},
   "source": []
  },
  {
   "cell_type": "code",
   "execution_count": null,
   "metadata": {},
   "outputs": [],
   "source": []
  }
 ],
 "metadata": {
  "kernelspec": {
   "display_name": "base",
   "language": "python",
   "name": "python3"
  },
  "language_info": {
   "codemirror_mode": {
    "name": "ipython",
    "version": 3
   },
   "file_extension": ".py",
   "mimetype": "text/x-python",
   "name": "python",
   "nbconvert_exporter": "python",
   "pygments_lexer": "ipython3",
   "version": "3.9.13"
  },
  "orig_nbformat": 4
 },
 "nbformat": 4,
 "nbformat_minor": 2
}
